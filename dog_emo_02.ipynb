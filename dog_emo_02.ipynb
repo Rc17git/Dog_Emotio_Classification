{
 "cells": [
  {
   "cell_type": "code",
   "execution_count": 2,
   "metadata": {},
   "outputs": [
    {
     "name": "stdout",
     "output_type": "stream",
     "text": [
      "num gpu: 0\n"
     ]
    }
   ],
   "source": [
    "print(\"num gpu:\", len(tf.config.experimental.list_physical_devices('GPU')))"
   ]
  },
  {
   "cell_type": "code",
   "execution_count": 3,
   "metadata": {},
   "outputs": [
    {
     "data": {
      "text/plain": [
       "False"
      ]
     },
     "execution_count": 3,
     "metadata": {},
     "output_type": "execute_result"
    }
   ],
   "source": [
    "tf.test.is_built_with_cuda()"
   ]
  },
  {
   "cell_type": "code",
   "execution_count": 4,
   "metadata": {
    "colab": {
     "base_uri": "https://localhost:8080/",
     "height": 35
    },
    "id": "G3C7hw599B6X",
    "outputId": "5826908c-1abd-495e-92e6-8bde6daed2f8"
   },
   "outputs": [],
   "source": [
    "import tensorflow as tf\n"
   ]
  },
  {
   "cell_type": "code",
   "execution_count": 5,
   "metadata": {
    "id": "U7CgEH3GWZzb"
   },
   "outputs": [],
   "source": [
    "import matplotlib.pyplot as plt\n",
    "import numpy as np\n",
    "import pandas as pd\n",
    "import seaborn as sns\n",
    "import cv2\n",
    "import tensorflow as tf\n",
    "import keras\n",
    "from tensorflow.keras.preprocessing.image import ImageDataGenerator\n",
    "from tqdm import tqdm\n",
    "import os\n",
    "from sklearn.utils import shuffle\n",
    "from sklearn.metrics import classification_report,confusion_matrix\n",
    "import ipywidgets as widgets\n",
    "import io\n",
    "from PIL import Image\n",
    "from IPython.display import display,clear_output\n",
    "from warnings import filterwarnings\n",
    "from keras.utils import np_utils\n",
    "from sklearn.model_selection import train_test_split\n",
    "from tensorflow.keras.applications.inception_v3 import InceptionV3\n",
    "from tensorflow.keras.applications import EfficientNetB7"
   ]
  },
  {
   "cell_type": "code",
   "execution_count": 6,
   "metadata": {
    "id": "tsCY2RFbWy30"
   },
   "outputs": [],
   "source": [
    "from sklearn.metrics import accuracy_score\n",
    "from sklearn.metrics import precision_score\n",
    "from sklearn.metrics import recall_score\n",
    "from sklearn.metrics import f1_score\n",
    "from sklearn.metrics import cohen_kappa_score\n",
    "from sklearn.metrics import roc_auc_score\n",
    "from sklearn.metrics import confusion_matrix"
   ]
  },
  {
   "cell_type": "code",
   "execution_count": 7,
   "metadata": {
    "id": "rv2AJpGkWy1N"
   },
   "outputs": [],
   "source": [
    "from tensorflow.keras.layers import Flatten,Dense,MaxPooling2D\n",
    "from tensorflow.keras.models import Sequential\n",
    "from sklearn.model_selection import train_test_split\n",
    "from tensorflow.keras.applications import EfficientNetB0\n",
    "from tensorflow.keras.applications import ResNet50\n",
    "from tensorflow.keras.applications.vgg16 import VGG16\n",
    "from tensorflow.keras.callbacks import EarlyStopping, ReduceLROnPlateau, TensorBoard, ModelCheckpoint\n",
    "from keras.preprocessing.image import ImageDataGenerator"
   ]
  },
  {
   "cell_type": "code",
   "execution_count": 8,
   "metadata": {},
   "outputs": [],
   "source": [
    "datagen = ImageDataGenerator(\n",
    "        rotation_range=20, # randomly rotate images by 20 degrees\n",
    "        width_shift_range=0.2, # randomly shift images horizontally by 20% of the width\n",
    "        height_shift_range=0.2, # randomly shift images vertically by 20% of the height\n",
    "        horizontal_flip=True, # randomly flip images horizontally\n",
    "        zoom_range=0.2) # randomly zoom images by up to 20%"
   ]
  },
  {
   "cell_type": "code",
   "execution_count": 9,
   "metadata": {
    "colab": {
     "base_uri": "https://localhost:8080/"
    },
    "id": "lW9R0v8VNdkx",
    "outputId": "415aa3ab-59ae-42ca-cfac-d631eebf6fd1"
   },
   "outputs": [
    {
     "name": "stderr",
     "output_type": "stream",
     "text": [
      "100%|██████████| 959/959 [00:02<00:00, 327.23it/s]\n"
     ]
    }
   ],
   "source": [
    "label_a = ['angry']\n",
    "X_train_a = []\n",
    "y_train_a = []\n",
    "image_size = 150\n",
    "for i in label_a:\n",
    "    folderPath = \"C:/Users/JMD/Desktop/python ting/abc/dds2/\" + i\n",
    "    for j in tqdm(os.listdir(folderPath)):\n",
    "        img = cv2.imread(os.path.join(folderPath,j))\n",
    "        img = cv2.resize(img,(image_size, image_size))\n",
    "        X_train_a.append(img)\n",
    "        y_train_a.append(i)     \n",
    "X_train_a = np.array(X_train_a)\n",
    "y_train_a = np.array(y_train_a)\n",
    "\n",
    "# fit the generator to the training data\n",
    "datagen.fit(X_train_a)\n",
    "\n",
    "# generate more images using the fitted generator\n",
    "augmented_images_a = []\n",
    "augmented_labels_a = []\n",
    "for x_batch, y_batch in datagen.flow(X_train_a, y_train_a, batch_size=len(X_train_a)):\n",
    "    augmented_images_a.extend(x_batch)\n",
    "    augmented_labels_a.extend(y_batch)\n",
    "    break\n",
    "for x_batch, y_batch in datagen.flow(X_train_a, y_train_a, batch_size=len(X_train_a)):\n",
    "    augmented_images_a.extend(x_batch)\n",
    "    augmented_labels_a.extend(y_batch)\n",
    "    break\n",
    "for x_batch, y_batch in datagen.flow(X_train_a, y_train_a, batch_size=len(X_train_a)):\n",
    "    augmented_images_a.extend(x_batch)\n",
    "    augmented_labels_a.extend(y_batch)\n",
    "    break\n",
    "# convert the lists to arrays\n",
    "augmented_images_a = np.array(augmented_images_a)\n",
    "augmented_labels_a = np.array(augmented_labels_a)\n",
    "\n",
    "#concatenate og data with augmented\n",
    "X_train_augmented_a = np.concatenate((X_train_a, augmented_images_a))\n",
    "y_train_augmented_a = np.concatenate((y_train_a, augmented_labels_a))"
   ]
  },
  {
   "cell_type": "code",
   "execution_count": 10,
   "metadata": {},
   "outputs": [
    {
     "name": "stderr",
     "output_type": "stream",
     "text": [
      "100%|██████████| 1500/1500 [00:04<00:00, 334.30it/s]\n"
     ]
    }
   ],
   "source": [
    "label_s = ['sad']\n",
    "X_train_s = []\n",
    "y_train_s = []\n",
    "image_size = 150\n",
    "for i in label_s:\n",
    "    folderPath = \"C:/Users/JMD/Desktop/python ting/abc/dds2/\" + i\n",
    "    for j in tqdm(os.listdir(folderPath)):\n",
    "        img = cv2.imread(os.path.join(folderPath,j))\n",
    "        img = cv2.resize(img,(image_size, image_size))\n",
    "        X_train_s.append(img)\n",
    "        y_train_s.append(i)     \n",
    "X_train_s = np.array(X_train_s)\n",
    "y_train_s = np.array(y_train_s)\n",
    "\n",
    "# fit the generator to the training data\n",
    "datagen.fit(X_train_s)\n",
    "\n",
    "# generate more images using the fitted generator\n",
    "augmented_images_s = []\n",
    "augmented_labels_s = []\n",
    "for x_batch, y_batch in datagen.flow(X_train_s, y_train_s, batch_size=len(X_train_s)):\n",
    "    augmented_images_s.extend(x_batch)\n",
    "    augmented_labels_s.extend(y_batch)\n",
    "    break\n",
    "for x_batch, y_batch in datagen.flow(X_train_s, y_train_s, batch_size=len(X_train_s)):\n",
    "    augmented_images_s.extend(x_batch)\n",
    "    augmented_labels_s.extend(y_batch)\n",
    "    break\n",
    "for x_batch, y_batch in datagen.flow(X_train_s, y_train_s, batch_size=len(X_train_s)):\n",
    "    augmented_images_s.extend(x_batch)\n",
    "    augmented_labels_s.extend(y_batch)\n",
    "    break\n",
    "# convert the lists to arrays\n",
    "augmented_images_s = np.array(augmented_images_s)\n",
    "augmented_labels_s = np.array(augmented_labels_s)\n",
    "\n",
    "#concatenate og data with augmented\n",
    "X_train_augmented_s = np.concatenate((X_train_s, augmented_images_s))\n",
    "y_train_augmented_s = np.concatenate((y_train_s, augmented_labels_s))"
   ]
  },
  {
   "cell_type": "code",
   "execution_count": 11,
   "metadata": {},
   "outputs": [
    {
     "name": "stderr",
     "output_type": "stream",
     "text": [
      "100%|██████████| 1029/1029 [00:03<00:00, 323.04it/s]\n"
     ]
    }
   ],
   "source": [
    "label_h = ['happy']\n",
    "X_train_h = []\n",
    "y_train_h = []\n",
    "image_size = 150\n",
    "for i in label_h:\n",
    "    folderPath = \"C:/Users/JMD/Desktop/python ting/abc/dds2/\" + i\n",
    "    for j in tqdm(os.listdir(folderPath)):\n",
    "        img = cv2.imread(os.path.join(folderPath,j))\n",
    "        img = cv2.resize(img,(image_size, image_size))\n",
    "        X_train_h.append(img)\n",
    "        y_train_h.append(i)     \n",
    "X_train_h = np.array(X_train_h)\n",
    "y_train_h = np.array(y_train_h)\n",
    "\n",
    "# fit the generator to the training data\n",
    "datagen.fit(X_train_h)\n",
    "\n",
    "# generate more images using the fitted generator\n",
    "augmented_images_h = []\n",
    "augmented_labels_h = []\n",
    "for x_batch, y_batch in datagen.flow(X_train_h, y_train_h, batch_size=len(X_train_h)):\n",
    "    augmented_images_h.extend(x_batch)\n",
    "    augmented_labels_h.extend(y_batch)\n",
    "    break\n",
    "for x_batch, y_batch in datagen.flow(X_train_h, y_train_h, batch_size=len(X_train_h)):\n",
    "    augmented_images_h.extend(x_batch)\n",
    "    augmented_labels_h.extend(y_batch)\n",
    "    break\n",
    "for x_batch, y_batch in datagen.flow(X_train_h, y_train_h, batch_size=len(X_train_h)):\n",
    "    augmented_images_h.extend(x_batch)\n",
    "    augmented_labels_h.extend(y_batch)\n",
    "    break\n",
    "# convert the lists to arrays\n",
    "augmented_images_h = np.array(augmented_images_h)\n",
    "augmented_labels_h = np.array(augmented_labels_h)\n",
    "\n",
    "#concatenate og data with augmented\n",
    "X_train_augmented_h = np.concatenate((X_train_h, augmented_images_h))\n",
    "y_train_augmented_h = np.concatenate((y_train_h, augmented_labels_h))"
   ]
  },
  {
   "cell_type": "code",
   "execution_count": 8,
   "metadata": {},
   "outputs": [
    {
     "name": "stderr",
     "output_type": "stream",
     "text": [
      "100%|██████████| 1000/1000 [00:03<00:00, 330.93it/s]\n"
     ]
    }
   ],
   "source": [
    "label_r = ['relaxed']\n",
    "X_train_r = []\n",
    "y_train_r = []\n",
    "image_size = 150\n",
    "for i in label_r:\n",
    "    folderPath = \"C:/Users/JMD/Desktop/python ting/abc/dds2/\" + i\n",
    "    for j in tqdm(os.listdir(folderPath)):\n",
    "        img = cv2.imread(os.path.join(folderPath,j))\n",
    "        img = cv2.resize(img,(image_size, image_size))\n",
    "        X_train_r.append(img)\n",
    "        y_train_r.append(i)     \n",
    "X_train_r = np.array(X_train_r)\n",
    "y_train_r = np.array(y_train_r)\n",
    "\n",
    "# fit the generator to the training data\n",
    "datagen.fit(X_train_r)\n",
    "\n",
    "# generate more images using the fitted generator\n",
    "augmented_images_r = []\n",
    "augmented_labels_r = []\n",
    "for x_batch, y_batch in datagen.flow(X_train_r, y_train_r, batch_size=len(X_train_r)):\n",
    "    augmented_images_r.extend(x_batch)\n",
    "    augmented_labels_r.extend(y_batch)\n",
    "    break\n",
    "for x_batch, y_batch in datagen.flow(X_train_r, y_train_r, batch_size=len(X_train_r)):\n",
    "    augmented_images_r.extend(x_batch)\n",
    "    augmented_labels_r.extend(y_batch)\n",
    "    break\n",
    "for x_batch, y_batch in datagen.flow(X_train_r, y_train_r, batch_size=len(X_train_r)):\n",
    "    augmented_images_r.extend(x_batch)\n",
    "    augmented_labels_r.extend(y_batch)\n",
    "    break\n",
    "# convert the lists to arrays\n",
    "augmented_images_r = np.array(augmented_images_r)\n",
    "augmented_labels_r = np.array(augmented_labels_r)\n",
    "\n",
    "#concatenate og data with augmented\n",
    "X_train_augmented_r = np.concatenate((X_train_r, augmented_images_r))\n",
    "y_train_augmented_r = np.concatenate((y_train_r, augmented_labels_r))"
   ]
  },
  {
   "cell_type": "code",
   "execution_count": 12,
   "metadata": {},
   "outputs": [],
   "source": [
    "X_train_1 = np.concatenate((X_train_augmented_h, X_train_augmented_s))\n",
    "y_train_1 = np.concatenate((y_train_augmented_h, y_train_augmented_s))"
   ]
  },
  {
   "cell_type": "code",
   "execution_count": 10,
   "metadata": {},
   "outputs": [],
   "source": [
    "X_train_2 = np.concatenate((X_train_augmented_a, X_train_augmented_r))\n",
    "y_train_2 = np.concatenate((y_train_augmented_a, y_train_augmented_r))"
   ]
  },
  {
   "cell_type": "code",
   "execution_count": 11,
   "metadata": {},
   "outputs": [],
   "source": [
    "X_train = np.concatenate((X_train_2, X_train_1))\n",
    "y_train = np.concatenate((y_train_2,y_train_1))"
   ]
  },
  {
   "cell_type": "code",
   "execution_count": 13,
   "metadata": {},
   "outputs": [],
   "source": [
    "#for 3 classes\n",
    "X_train = np.concatenate((X_train_augmented_a, X_train_1))\n",
    "y_train = np.concatenate((y_train_augmented_a,y_train_1))"
   ]
  },
  {
   "cell_type": "code",
   "execution_count": 10,
   "metadata": {
    "colab": {
     "base_uri": "https://localhost:8080/"
    },
    "id": "nc3cN0vLPLs-",
    "outputId": "19bed673-e17a-4e96-9538-6e703146a09a"
   },
   "outputs": [
    {
     "ename": "NameError",
     "evalue": "name 'augmented_images' is not defined",
     "output_type": "error",
     "traceback": [
      "\u001b[1;31m---------------------------------------------------------------------------\u001b[0m",
      "\u001b[1;31mNameError\u001b[0m                                 Traceback (most recent call last)",
      "\u001b[1;32m<ipython-input-10-d8685b9ae0b7>\u001b[0m in \u001b[0;36m<module>\u001b[1;34m\u001b[0m\n\u001b[1;32m----> 1\u001b[1;33m \u001b[0maugmented_images\u001b[0m\u001b[1;33m.\u001b[0m\u001b[0mshape\u001b[0m\u001b[1;33m\u001b[0m\u001b[1;33m\u001b[0m\u001b[0m\n\u001b[0m",
      "\u001b[1;31mNameError\u001b[0m: name 'augmented_images' is not defined"
     ]
    }
   ],
   "source": [
    "augmented_images.shape"
   ]
  },
  {
   "cell_type": "code",
   "execution_count": 7,
   "metadata": {
    "id": "bj8gyjDkPP8_"
   },
   "outputs": [],
   "source": []
  },
  {
   "cell_type": "code",
   "execution_count": 11,
   "metadata": {
    "colab": {
     "base_uri": "https://localhost:8080/"
    },
    "id": "hv49-wWIQ1i7",
    "outputId": "46251a48-fb96-424d-d05e-ecabe3db28ef"
   },
   "outputs": [
    {
     "ename": "NameError",
     "evalue": "name 'X_train_augmented' is not defined",
     "output_type": "error",
     "traceback": [
      "\u001b[1;31m---------------------------------------------------------------------------\u001b[0m",
      "\u001b[1;31mNameError\u001b[0m                                 Traceback (most recent call last)",
      "\u001b[1;32m<ipython-input-11-82e261c462c0>\u001b[0m in \u001b[0;36m<module>\u001b[1;34m\u001b[0m\n\u001b[1;32m----> 1\u001b[1;33m \u001b[0mX_train_augmented\u001b[0m\u001b[1;33m.\u001b[0m\u001b[0mshape\u001b[0m\u001b[1;33m\u001b[0m\u001b[1;33m\u001b[0m\u001b[0m\n\u001b[0m",
      "\u001b[1;31mNameError\u001b[0m: name 'X_train_augmented' is not defined"
     ]
    }
   ],
   "source": [
    "X_train_augmented.shape"
   ]
  },
  {
   "cell_type": "code",
   "execution_count": 8,
   "metadata": {
    "colab": {
     "base_uri": "https://localhost:8080/"
    },
    "id": "Bjhk46ZOWyzH",
    "outputId": "2eb20543-3d52-4a78-8dcc-23c8b0151e0b"
   },
   "outputs": [
    {
     "name": "stderr",
     "output_type": "stream",
     "text": [
      "100%|██████████| 4336/4336 [00:13<00:00, 317.91it/s]\n",
      "100%|██████████| 4280/4280 [00:12<00:00, 331.95it/s]\n",
      "100%|██████████| 4432/4432 [00:12<00:00, 343.70it/s]\n"
     ]
    }
   ],
   "source": [
    "labels = ['happy','relaxed','sad']\n",
    "X_train = []\n",
    "y_train = []\n",
    "image_size = 150\n",
    "for i in labels:\n",
    "    folderPath = 'C:/Users/JMD/Desktop/python ting/abc/DogDataset/'+i\n",
    "    for j in tqdm(os.listdir(folderPath)):\n",
    "        img = cv2.imread(os.path.join(folderPath,j))\n",
    "        img = cv2.resize(img,(image_size, image_size))\n",
    "        X_train.append(img)\n",
    "        y_train.append(i)        \n",
    "X_train = np.array(X_train)\n",
    "y_train = np.array(y_train)"
   ]
  },
  {
   "cell_type": "code",
   "execution_count": 9,
   "metadata": {
    "id": "lD9Nc6dyWywx"
   },
   "outputs": [],
   "source": [
    "X_train = np.concatenate((X_train, X_train_augmented))\n",
    "y_train = np.concatenate((y_train, y_train_augmented))"
   ]
  },
  {
   "cell_type": "code",
   "execution_count": 14,
   "metadata": {
    "id": "ZYhFOD-ITsog"
   },
   "outputs": [
    {
     "name": "stdout",
     "output_type": "stream",
     "text": [
      "(13952, 150, 150, 3)\n",
      "(13952,)\n"
     ]
    }
   ],
   "source": [
    "print(X_train.shape)\n",
    "print(y_train.shape)"
   ]
  },
  {
   "cell_type": "code",
   "execution_count": 25,
   "metadata": {
    "colab": {
     "base_uri": "https://localhost:8080/",
     "height": 165
    },
    "id": "4hPlAX4tc_dr",
    "outputId": "b9335162-1589-4e08-b596-abb3393e2e5b"
   },
   "outputs": [
    {
     "ename": "NameError",
     "evalue": "name 'X' is not defined",
     "output_type": "error",
     "traceback": [
      "\u001b[1;31m---------------------------------------------------------------------------\u001b[0m",
      "\u001b[1;31mNameError\u001b[0m                                 Traceback (most recent call last)",
      "\u001b[1;32m<ipython-input-25-1da8126151a4>\u001b[0m in \u001b[0;36m<module>\u001b[1;34m\u001b[0m\n\u001b[1;32m----> 1\u001b[1;33m \u001b[0mX\u001b[0m\u001b[1;33m,\u001b[0m\u001b[0mY\u001b[0m \u001b[1;33m=\u001b[0m \u001b[0mshuffle\u001b[0m\u001b[1;33m(\u001b[0m\u001b[0mX\u001b[0m\u001b[1;33m,\u001b[0m\u001b[0mY\u001b[0m\u001b[1;33m,\u001b[0m \u001b[0mrandom_state\u001b[0m\u001b[1;33m=\u001b[0m\u001b[1;36m101\u001b[0m\u001b[1;33m)\u001b[0m\u001b[1;33m\u001b[0m\u001b[1;33m\u001b[0m\u001b[0m\n\u001b[0m",
      "\u001b[1;31mNameError\u001b[0m: name 'X' is not defined"
     ]
    }
   ],
   "source": [
    "X,Y = shuffle(X,Y, random_state=101)"
   ]
  },
  {
   "cell_type": "code",
   "execution_count": 15,
   "metadata": {
    "id": "sIE3SxwHWyuK"
   },
   "outputs": [],
   "source": [
    "X_train, y_train = shuffle(X_train,y_train, random_state=101)\n",
    "X_train,X_test,y_train,y_test = train_test_split(X_train, y_train, test_size=0.3,random_state=101)"
   ]
  },
  {
   "cell_type": "code",
   "execution_count": 17,
   "metadata": {
    "colab": {
     "base_uri": "https://localhost:8080/"
    },
    "id": "0XMqSaUL-vfl",
    "outputId": "e3a5e714-e0a4-4bfa-f2ee-a1e1e6ffacc9"
   },
   "outputs": [
    {
     "data": {
      "text/plain": [
       "array([[1., 0., 0.],\n",
       "       [1., 0., 0.],\n",
       "       [1., 0., 0.],\n",
       "       ...,\n",
       "       [1., 0., 0.],\n",
       "       [0., 1., 0.],\n",
       "       [0., 1., 0.]], dtype=float32)"
      ]
     },
     "execution_count": 17,
     "metadata": {},
     "output_type": "execute_result"
    }
   ],
   "source": [
    "y_train"
   ]
  },
  {
   "cell_type": "code",
   "execution_count": 16,
   "metadata": {},
   "outputs": [],
   "source": [
    "#label = ['happy','angry','relaxed','sad']\n",
    "label = ['happy','angry','sad']"
   ]
  },
  {
   "cell_type": "code",
   "execution_count": 31,
   "metadata": {},
   "outputs": [
    {
     "data": {
      "text/plain": [
       "array([[1., 0., 0., 0.],\n",
       "       [1., 0., 0., 0.],\n",
       "       [1., 0., 0., 0.],\n",
       "       ...,\n",
       "       [0., 1., 0., 0.],\n",
       "       [1., 0., 0., 0.],\n",
       "       [0., 1., 0., 0.]], dtype=float32)"
      ]
     },
     "execution_count": 31,
     "metadata": {},
     "output_type": "execute_result"
    }
   ],
   "source": [
    "y_test\n"
   ]
  },
  {
   "cell_type": "code",
   "execution_count": 17,
   "metadata": {
    "id": "33LqAuinQh9W"
   },
   "outputs": [],
   "source": [
    "y_train_new = []\n",
    "for i in y_train:\n",
    "    y_train_new.append(label.index(i))\n",
    "y_train = y_train_new\n",
    "y_train = tf.keras.utils.to_categorical(y_train)\n",
    "\n",
    "\n",
    "y_test_new = []\n",
    "for i in y_test:\n",
    "    y_test_new.append(label.index(i))\n",
    "y_test = y_test_new\n",
    "y_test = tf.keras.utils.to_categorical(y_test)"
   ]
  },
  {
   "cell_type": "code",
   "execution_count": null,
   "metadata": {
    "colab": {
     "base_uri": "https://localhost:8080/",
     "height": 654
    },
    "id": "9qYglX8HxaM_",
    "outputId": "3b76c413-4da7-4947-c0d2-a0ce61217aa3"
   },
   "outputs": [
    {
     "name": "stdout",
     "output_type": "stream",
     "text": [
      "132/132 [==============================] - 9s 69ms/step\n"
     ]
    },
    {
     "name": "stderr",
     "output_type": "stream",
     "text": [
      "/usr/local/lib/python3.8/dist-packages/sklearn/metrics/_classification.py:1344: UndefinedMetricWarning: Precision and F-score are ill-defined and being set to 0.0 in labels with no predicted samples. Use `zero_division` parameter to control this behavior.\n",
      "  _warn_prf(average, modifier, msg_start, len(result))\n",
      "/usr/local/lib/python3.8/dist-packages/sklearn/metrics/_classification.py:1344: UndefinedMetricWarning: Precision and F-score are ill-defined and being set to 0.0 in labels with no predicted samples. Use `zero_division` parameter to control this behavior.\n",
      "  _warn_prf(average, modifier, msg_start, len(result))\n",
      "/usr/local/lib/python3.8/dist-packages/sklearn/metrics/_classification.py:1344: UndefinedMetricWarning: Precision and F-score are ill-defined and being set to 0.0 in labels with no predicted samples. Use `zero_division` parameter to control this behavior.\n",
      "  _warn_prf(average, modifier, msg_start, len(result))\n"
     ]
    },
    {
     "name": "stdout",
     "output_type": "stream",
     "text": [
      "              precision    recall  f1-score   support\n",
      "\n",
      "           0       0.00      0.00      0.00       277\n",
      "           1       0.36      0.93      0.52      1313\n",
      "           2       0.53      0.19      0.28      1265\n",
      "           3       0.63      0.18      0.28      1348\n",
      "\n",
      "    accuracy                           0.40      4203\n",
      "   macro avg       0.38      0.32      0.27      4203\n",
      "weighted avg       0.47      0.40      0.33      4203\n",
      "\n"
     ]
    },
    {
     "data": {
      "image/png": "[encoded data removed]",
      "text/plain": [
       "<Figure size 648x288 with 2 Axes>"
      ]
     },
     "metadata": {
      "needs_background": "light"
     },
     "output_type": "display_data"
    },
    {
     "name": "stdout",
     "output_type": "stream",
     "text": [
      "132/132 [==============================] - 9s 71ms/step - loss: 1.3099 - accuracy: 0.4016\n",
      "1.3099477291107178 0.4016178846359253\n"
     ]
    }
   ],
   "source": [
    "#Correct Ploting code\n",
    "y_pred = model.predict(X_test)\n",
    "y_pred = np.argmax(y_pred, axis=1)\n",
    "y_test_new = np.argmax(y_test_n, axis=1)\n",
    "print(classification_report(y_test_new, y_pred))\n",
    "\n",
    "fig, ax = plt.subplots(1, 1, figsize=(9, 4))\n",
    "sns.heatmap(confusion_matrix(y_test_new, y_pred), ax=ax, xticklabels=labels, yticklabels=labels, annot=True,\n",
    "           cmap='Blues', alpha=0.7, linewidths=2, fmt='g')\n",
    "fig.text(s='Confusion Matrix (VGG16)', size=12, fontweight='bold',\n",
    "             fontname='monospace', y=0.92, x=0.28)\n",
    "plt.show()\n",
    "\n",
    "loss, accuracy = model.evaluate(X_test, y_test_n)\n",
    "print(loss, accuracy)\n"
   ]
  },
  {
   "cell_type": "code",
   "execution_count": null,
   "metadata": {
    "colab": {
     "base_uri": "https://localhost:8080/"
    },
    "id": "wUpwKByrcwDE",
    "outputId": "ac71e4e0-96b4-433d-f117-c3d03626a0e2"
   },
   "outputs": [
    {
     "data": {
      "text/plain": [
       "(6862, 150, 150, 3)"
      ]
     },
     "execution_count": 35,
     "metadata": {},
     "output_type": "execute_result"
    }
   ],
   "source": [
    "X_train.shape"
   ]
  },
  {
   "cell_type": "code",
   "execution_count": 23,
   "metadata": {
    "colab": {
     "base_uri": "https://localhost:8080/"
    },
    "id": "pHF11TaJc383",
    "outputId": "b1d88d95-70a9-411d-e150-2bfe50d33caf"
   },
   "outputs": [
    {
     "name": "stdout",
     "output_type": "stream",
     "text": [
      "Epoch 1/5\n",
      "279/279 [==============================] - 431s 2s/step - loss: 1.0688 - accuracy: 0.5349 - val_loss: 1.1582 - val_accuracy: 0.5309\n",
      "Epoch 2/5\n",
      "279/279 [==============================] - 424s 2s/step - loss: 0.8975 - accuracy: 0.6350 - val_loss: 0.9513 - val_accuracy: 0.6108\n",
      "Epoch 3/5\n",
      "279/279 [==============================] - 432s 2s/step - loss: 0.8041 - accuracy: 0.6748 - val_loss: 1.0137 - val_accuracy: 0.6040\n",
      "Epoch 4/5\n",
      "279/279 [==============================] - 433s 2s/step - loss: 0.7031 - accuracy: 0.7268 - val_loss: 1.0759 - val_accuracy: 0.6004\n",
      "Epoch 5/5\n",
      "279/279 [==============================] - 433s 2s/step - loss: 0.6099 - accuracy: 0.7757 - val_loss: 1.2163 - val_accuracy: 0.5596\n"
     ]
    }
   ],
   "source": [
    "effnet = EfficientNetB0(weights='imagenet',include_top=False,input_shape=(image_size,image_size,3))\n",
    "model = effnet.output\n",
    "model = tf.keras.layers.Dense(64, activation='relu')(model)\n",
    "model = tf.keras.layers.Dropout(rate=0.25)(model)\n",
    "model = tf.keras.layers.Dense(64, activation='relu')(model)\n",
    "model = tf.keras.layers.Dropout(rate=0.25)(model)\n",
    "model = tf.keras.layers.Dense(64, activation='relu')(model)\n",
    "model = tf.keras.layers.Dropout(rate=0.25)(model)\n",
    "model = tf.keras.layers.Dense(64, activation='relu')(model)\n",
    "model = tf.keras.layers.GlobalAveragePooling2D()(model)\n",
    "model = tf.keras.layers.Dropout(rate=0.25)(model)\n",
    "model = tf.keras.layers.Dense(4, activation='softmax')(model)\n",
    "model = tf.keras.models.Model(inputs=effnet.input, outputs=model)\n",
    "model.compile(loss='categorical_crossentropy', optimizer='Adam', metrics=['accuracy'])\n",
    "history = model.fit(X_train, y_train, validation_split=0.2, epochs=5, verbose=1, batch_size=32)\n"
   ]
  },
  {
   "cell_type": "code",
   "execution_count": 26,
   "metadata": {},
   "outputs": [
    {
     "name": "stdout",
     "output_type": "stream",
     "text": [
      "Epoch 1/5\n",
      "473/473 [==============================] - 472s 983ms/step - loss: 1.2095 - accuracy: 0.4242 - val_loss: 0.9154 - val_accuracy: 0.6184\n",
      "Epoch 2/5\n",
      "473/473 [==============================] - 458s 968ms/step - loss: 0.9091 - accuracy: 0.6124 - val_loss: 0.8408 - val_accuracy: 0.6548\n",
      "Epoch 3/5\n",
      "473/473 [==============================] - 458s 969ms/step - loss: 0.7799 - accuracy: 0.6831 - val_loss: 0.8325 - val_accuracy: 0.6646\n",
      "Epoch 4/5\n",
      "473/473 [==============================] - 461s 974ms/step - loss: 0.6492 - accuracy: 0.7421 - val_loss: 0.8555 - val_accuracy: 0.6646\n",
      "Epoch 5/5\n",
      "473/473 [==============================] - 461s 975ms/step - loss: 0.5060 - accuracy: 0.8070 - val_loss: 0.9573 - val_accuracy: 0.6409\n"
     ]
    }
   ],
   "source": [
    "# with the learning rate\n",
    "effnet = EfficientNetB0(weights='imagenet',include_top=False,input_shape=(image_size,image_size,3))\n",
    "model0 = effnet.output\n",
    "model0 = tf.keras.layers.Dense(64, activation='relu')(model0)\n",
    "model0 = tf.keras.layers.Dropout(rate=0.25)(model0)\n",
    "model0 = tf.keras.layers.Dense(64, activation='relu')(model0)\n",
    "model0 = tf.keras.layers.Dropout(rate=0.25)(model0)\n",
    "model0 = tf.keras.layers.Dense(64, activation='relu')(model0)\n",
    "model0 = tf.keras.layers.Dropout(rate=0.25)(model0)\n",
    "model0 = tf.keras.layers.Dense(64, activation='relu')(model0)\n",
    "model0 = tf.keras.layers.GlobalAveragePooling2D()(model0)\n",
    "model0 = tf.keras.layers.Dropout(rate=0.25)(model0)\n",
    "model0 = tf.keras.layers.Dense(4, activation='softmax')(model0)\n",
    "model0 = tf.keras.models.Model(inputs=effnet.input, outputs=model0)\n",
    "#opt = keras.optimizers.Adam(learning_rate=0.001)\n",
    "#new learning rate(0.0001)\n",
    "opt = keras.optimizers.Adam(learning_rate=0.0001)\n",
    "model0.compile(loss='categorical_crossentropy',  optimizer=opt, metrics=['accuracy'])\n",
    "history = model0.fit(X_train, y_train, validation_split=0.2, epochs=5, verbose=1, batch_size=20)"
   ]
  },
  {
   "cell_type": "code",
   "execution_count": 27,
   "metadata": {},
   "outputs": [
    {
     "name": "stdout",
     "output_type": "stream",
     "text": [
      "159/159 [==============================] - 51s 316ms/step\n",
      "              precision    recall  f1-score   support\n",
      "\n",
      "           0       0.68      0.65      0.67      1315\n",
      "           1       0.88      0.84      0.86      1148\n",
      "           2       0.53      0.61      0.57      1267\n",
      "           3       0.64      0.60      0.62      1336\n",
      "\n",
      "    accuracy                           0.67      5066\n",
      "   macro avg       0.68      0.68      0.68      5066\n",
      "weighted avg       0.68      0.67      0.67      5066\n",
      "\n"
     ]
    }
   ],
   "source": [
    "pred0 = model0.predict(X_test)\n",
    "pred0 = np.argmax(pred0,axis=1)\n",
    "y_test_new0 = np.argmax(y_test, axis=1)\n",
    "print(classification_report(y_test_new0,pred0))"
   ]
  },
  {
   "cell_type": "code",
   "execution_count": 24,
   "metadata": {
    "colab": {
     "base_uri": "https://localhost:8080/"
    },
    "id": "ikScxd3eRwFx",
    "outputId": "5023450b-cef4-4bc6-b599-d4e48cfc555b"
   },
   "outputs": [
    {
     "name": "stdout",
     "output_type": "stream",
     "text": [
      "150/150 [==============================] - 49s 317ms/step\n",
      "              precision    recall  f1-score   support\n",
      "\n",
      "           0       0.75      0.45      0.56      1330\n",
      "           1       0.92      0.66      0.77       834\n",
      "           2       0.41      0.76      0.54      1222\n",
      "           3       0.59      0.47      0.52      1392\n",
      "\n",
      "    accuracy                           0.57      4778\n",
      "   macro avg       0.67      0.59      0.60      4778\n",
      "weighted avg       0.64      0.57      0.58      4778\n",
      "\n"
     ]
    }
   ],
   "source": [
    "pred = model.predict(X_test)\n",
    "pred = np.argmax(pred,axis=1)\n",
    "y_test_new = np.argmax(y_test, axis=1)\n",
    "print(classification_report(y_test_new,pred))"
   ]
  },
  {
   "cell_type": "code",
   "execution_count": 32,
   "metadata": {},
   "outputs": [
    {
     "name": "stdout",
     "output_type": "stream",
     "text": [
      "Epoch 1/10\n",
      "503/503 [==============================] - 482s 937ms/step - loss: 1.1295 - accuracy: 0.4951 - val_loss: 0.8233 - val_accuracy: 0.6559\n",
      "Epoch 2/10\n",
      "503/503 [==============================] - 466s 926ms/step - loss: 0.7413 - accuracy: 0.7046 - val_loss: 0.6425 - val_accuracy: 0.7407\n",
      "Epoch 3/10\n",
      "503/503 [==============================] - 462s 919ms/step - loss: 0.4968 - accuracy: 0.8130 - val_loss: 0.5668 - val_accuracy: 0.7864\n",
      "Epoch 4/10\n",
      "503/503 [==============================] - 461s 917ms/step - loss: 0.3143 - accuracy: 0.8859 - val_loss: 0.5042 - val_accuracy: 0.8254\n",
      "Epoch 5/10\n",
      "503/503 [==============================] - 455s 904ms/step - loss: 0.2100 - accuracy: 0.9273 - val_loss: 0.5230 - val_accuracy: 0.8333\n",
      "Epoch 6/10\n",
      "503/503 [==============================] - 454s 904ms/step - loss: 0.1596 - accuracy: 0.9450 - val_loss: 0.4905 - val_accuracy: 0.8520\n",
      "Epoch 7/10\n",
      "503/503 [==============================] - 454s 903ms/step - loss: 0.1203 - accuracy: 0.9586 - val_loss: 0.5483 - val_accuracy: 0.8516\n",
      "Epoch 8/10\n",
      "503/503 [==============================] - 453s 902ms/step - loss: 0.1076 - accuracy: 0.9607 - val_loss: 0.5193 - val_accuracy: 0.8663\n",
      "Epoch 9/10\n",
      "503/503 [==============================] - 453s 902ms/step - loss: 0.0903 - accuracy: 0.9673 - val_loss: 0.5052 - val_accuracy: 0.8735\n",
      "Epoch 10/10\n",
      "503/503 [==============================] - 454s 903ms/step - loss: 0.0795 - accuracy: 0.9728 - val_loss: 0.5019 - val_accuracy: 0.8763\n"
     ]
    }
   ],
   "source": [
    "# change in neurons fro 64 to 128\n",
    "effnet = EfficientNetB0(weights='imagenet',include_top=False,input_shape=(image_size,image_size,3))\n",
    "model1 = effnet.output\n",
    "model1 = tf.keras.layers.Dense(128, activation='relu')(model1)\n",
    "model1 = tf.keras.layers.Dropout(rate=0.25)(model1)\n",
    "model1 = tf.keras.layers.Dense(128, activation='relu')(model1)\n",
    "model1 = tf.keras.layers.Dropout(rate=0.25)(model1)\n",
    "model1 = tf.keras.layers.Dense(128, activation='relu')(model1)\n",
    "model1 = tf.keras.layers.Dropout(rate=0.25)(model1)\n",
    "model1 = tf.keras.layers.Dense(128, activation='relu')(model1)\n",
    "model1 = tf.keras.layers.GlobalAveragePooling2D()(model1)\n",
    "model1 = tf.keras.layers.Dropout(rate=0.25)(model1)\n",
    "model1 = tf.keras.layers.Dense(4, activation='softmax')(model1)\n",
    "model1 = tf.keras.models.Model(inputs=effnet.input, outputs=model1)\n",
    "#opt = keras.optimizers.Adam(learning_rate=0.001)\n",
    "#new learning rate(0.0001)\n",
    "opt = keras.optimizers.Adam(learning_rate=0.0001)\n",
    "model1.compile(loss='categorical_crossentropy',  optimizer=opt, metrics=['accuracy'])\n",
    "history = model1.fit(X_train, y_train, validation_split=0.2, epochs=10, verbose=1, batch_size=20)"
   ]
  },
  {
   "cell_type": "code",
   "execution_count": 33,
   "metadata": {},
   "outputs": [
    {
     "name": "stdout",
     "output_type": "stream",
     "text": [
      "169/169 [==============================] - 50s 291ms/step\n",
      "              precision    recall  f1-score   support\n",
      "\n",
      "           0       0.93      0.93      0.93      1179\n",
      "           1       0.82      0.89      0.85      1169\n",
      "           2       0.87      0.81      0.84      1221\n",
      "           3       0.89      0.89      0.89      1817\n",
      "\n",
      "    accuracy                           0.88      5386\n",
      "   macro avg       0.88      0.88      0.88      5386\n",
      "weighted avg       0.88      0.88      0.88      5386\n",
      "\n"
     ]
    }
   ],
   "source": [
    "pred1 = model1.predict(X_test)\n",
    "pred1 = np.argmax(pred1,axis=1)\n",
    "y_test_new1 = np.argmax(y_test, axis=1)\n",
    "print(classification_report(y_test_new1,pred1))"
   ]
  },
  {
   "cell_type": "code",
   "execution_count": 34,
   "metadata": {},
   "outputs": [
    {
     "data": {
      "image/png": "[encoded data removed]",
      "text/plain": [
       "<Figure size 648x288 with 2 Axes>"
      ]
     },
     "metadata": {
      "needs_background": "light"
     },
     "output_type": "display_data"
    }
   ],
   "source": [
    "fig, ax = plt.subplots(1, 1, figsize=(9, 4))\n",
    "sns.heatmap(confusion_matrix(y_test_new1, pred1), ax=ax, xticklabels=label, yticklabels=label, annot=True,\n",
    "           cmap='Blues', alpha=0.7, linewidths=2, fmt='g')\n",
    "fig.text(s='Confusion Matrix (VGG16)', size=12, fontweight='bold',\n",
    "             fontname='monospace', y=0.92, x=0.28)\n",
    "plt.show()"
   ]
  },
  {
   "cell_type": "code",
   "execution_count": null,
   "metadata": {
    "id": "OWcIUbIzBvfB"
   },
   "outputs": [],
   "source": [
    "resnet_model = Sequential()\n",
    "pretrained_model=ResNet50(weights='imagenet',include_top=False,input_shape=(image_size,image_size,3))\n",
    "for layer in pretrained_model.layers:\n",
    "        layer.trainable=False\n",
    "resnet_model.add(pretrained_model)"
   ]
  },
  {
   "cell_type": "code",
   "execution_count": null,
   "metadata": {
    "id": "TgPwidAMBvck"
   },
   "outputs": [],
   "source": [
    "model1 = resnet_model.output\n",
    "model1 = tf.keras.layers.Dense(256,activation='relu')(model1)\n",
    "model1 = tf.keras.layers.MaxPooling2D()(model1)\n",
    "model1 = tf.keras.layers.Dropout(rate=0.25)(model1)\n",
    "model1 = tf.keras.layers.Dense(256,activation='relu')(model1)\n",
    "model1 = tf.keras.layers.GlobalAveragePooling2D()(model1)\n",
    "model1 = tf.keras.layers.Dropout(rate=0.5)(model1)\n",
    "model1 = tf.keras.layers.Dense(4,activation='softmax')(model1)\n",
    "model1 = tf.keras.models.Model(inputs=resnet_model.input, outputs = model1)"
   ]
  },
  {
   "cell_type": "code",
   "execution_count": null,
   "metadata": {
    "id": "O73Qiy5rBvaL"
   },
   "outputs": [],
   "source": []
  },
  {
   "cell_type": "code",
   "execution_count": 23,
   "metadata": {
    "id": "QVVORkfwBvXV"
   },
   "outputs": [],
   "source": [
    "lab=['a','g','c']\n",
    "aa = []\n",
    "aaa=['a','c','a','g','a','g','c','a','c','a','g','a','g','c','a','c','a','g','a','g','c']\n",
    "b=['a','c','a','g','a','g','c','a','c','a','g','a','g','c','a','c','a','g','a','g','c']\n",
    "for i in aaa:\n",
    "    aa.append(lab.index(i))\n",
    "aaa = aa\n",
    "aaa = tf.keras.utils.to_categorical(aaa)"
   ]
  },
  {
   "cell_type": "code",
   "execution_count": 24,
   "metadata": {},
   "outputs": [
    {
     "data": {
      "text/plain": [
       "array([[1., 0., 0.],\n",
       "       [0., 0., 1.],\n",
       "       [1., 0., 0.],\n",
       "       [0., 1., 0.],\n",
       "       [1., 0., 0.],\n",
       "       [0., 1., 0.],\n",
       "       [0., 0., 1.],\n",
       "       [1., 0., 0.],\n",
       "       [0., 0., 1.],\n",
       "       [1., 0., 0.],\n",
       "       [0., 1., 0.],\n",
       "       [1., 0., 0.],\n",
       "       [0., 1., 0.],\n",
       "       [0., 0., 1.],\n",
       "       [1., 0., 0.],\n",
       "       [0., 0., 1.],\n",
       "       [1., 0., 0.],\n",
       "       [0., 1., 0.],\n",
       "       [1., 0., 0.],\n",
       "       [0., 1., 0.],\n",
       "       [0., 0., 1.]], dtype=float32)"
      ]
     },
     "execution_count": 24,
     "metadata": {},
     "output_type": "execute_result"
    }
   ],
   "source": [
    "aaa"
   ]
  },
  {
   "cell_type": "code",
   "execution_count": 16,
   "metadata": {},
   "outputs": [
    {
     "name": "stdout",
     "output_type": "stream",
     "text": [
      "Epoch 1/20\n",
      "503/503 [==============================] - 469s 918ms/step - loss: 1.1110 - accuracy: 0.4964 - val_loss: 0.8103 - val_accuracy: 0.6778\n",
      "Epoch 2/20\n",
      "503/503 [==============================] - 489s 972ms/step - loss: 0.7519 - accuracy: 0.6901 - val_loss: 0.6437 - val_accuracy: 0.7422\n",
      "Epoch 3/20\n",
      "503/503 [==============================] - 476s 946ms/step - loss: 0.5158 - accuracy: 0.7999 - val_loss: 0.5280 - val_accuracy: 0.7963\n",
      "Epoch 4/20\n",
      "503/503 [==============================] - 483s 960ms/step - loss: 0.3160 - accuracy: 0.8791 - val_loss: 0.4882 - val_accuracy: 0.8313\n",
      "Epoch 5/20\n",
      "503/503 [==============================] - 484s 963ms/step - loss: 0.2202 - accuracy: 0.9229 - val_loss: 0.5177 - val_accuracy: 0.8361\n",
      "Epoch 6/20\n",
      "503/503 [==============================] - 484s 963ms/step - loss: 0.1685 - accuracy: 0.9411 - val_loss: 0.4741 - val_accuracy: 0.8532\n",
      "Epoch 7/20\n",
      "503/503 [==============================] - 484s 963ms/step - loss: 0.1319 - accuracy: 0.9547 - val_loss: 0.5061 - val_accuracy: 0.8616\n",
      "Epoch 8/20\n",
      "503/503 [==============================] - 481s 956ms/step - loss: 0.1145 - accuracy: 0.9610 - val_loss: 0.4919 - val_accuracy: 0.8640\n",
      "Epoch 9/20\n",
      "503/503 [==============================] - 479s 952ms/step - loss: 0.0882 - accuracy: 0.9710 - val_loss: 0.4418 - val_accuracy: 0.8819\n",
      "Epoch 10/20\n",
      "503/503 [==============================] - 477s 949ms/step - loss: 0.0854 - accuracy: 0.9723 - val_loss: 0.4547 - val_accuracy: 0.8791\n",
      "Epoch 11/20\n",
      "503/503 [==============================] - 477s 948ms/step - loss: 0.0787 - accuracy: 0.9724 - val_loss: 0.5074 - val_accuracy: 0.8620\n",
      "Epoch 12/20\n",
      "503/503 [==============================] - 476s 946ms/step - loss: 0.0687 - accuracy: 0.9773 - val_loss: 0.4527 - val_accuracy: 0.8831\n",
      "Epoch 13/20\n",
      "503/503 [==============================] - 475s 945ms/step - loss: 0.0625 - accuracy: 0.9798 - val_loss: 0.4994 - val_accuracy: 0.8791\n",
      "Epoch 14/20\n",
      "503/503 [==============================] - 474s 942ms/step - loss: 0.0514 - accuracy: 0.9826 - val_loss: 0.5049 - val_accuracy: 0.8739\n",
      "Epoch 15/20\n",
      "503/503 [==============================] - 473s 939ms/step - loss: 0.0526 - accuracy: 0.9825 - val_loss: 0.4756 - val_accuracy: 0.8898\n",
      "Epoch 16/20\n",
      "503/503 [==============================] - 472s 938ms/step - loss: 0.0531 - accuracy: 0.9830 - val_loss: 0.4744 - val_accuracy: 0.8898\n",
      "Epoch 17/20\n",
      "503/503 [==============================] - 472s 938ms/step - loss: 0.0472 - accuracy: 0.9842 - val_loss: 0.4978 - val_accuracy: 0.8846\n",
      "Epoch 18/20\n",
      "503/503 [==============================] - 472s 938ms/step - loss: 0.0450 - accuracy: 0.9858 - val_loss: 0.4613 - val_accuracy: 0.8958\n",
      "Epoch 19/20\n",
      "503/503 [==============================] - 472s 939ms/step - loss: 0.0478 - accuracy: 0.9848 - val_loss: 0.4900 - val_accuracy: 0.8890\n",
      "Epoch 20/20\n",
      "503/503 [==============================] - 472s 937ms/step - loss: 0.0453 - accuracy: 0.9856 - val_loss: 0.4452 - val_accuracy: 0.8950\n"
     ]
    }
   ],
   "source": [
    "# change in neurons fro 64 to 128\n",
    "effnet = EfficientNetB0(weights='imagenet',include_top=False,input_shape=(image_size,image_size,3))\n",
    "model3 = effnet.output\n",
    "model3 = tf.keras.layers.Dense(128, activation='relu')(model3)\n",
    "model3 = tf.keras.layers.Dropout(rate=0.25)(model3)\n",
    "model3 = tf.keras.layers.Dense(128, activation='relu')(model3)\n",
    "model3 = tf.keras.layers.Dropout(rate=0.25)(model3)\n",
    "model3 = tf.keras.layers.Dense(128, activation='relu')(model3)\n",
    "model3 = tf.keras.layers.Dropout(rate=0.25)(model3)\n",
    "model3 = tf.keras.layers.Dense(128, activation='relu')(model3)\n",
    "model3 = tf.keras.layers.GlobalAveragePooling2D()(model3)\n",
    "model3 = tf.keras.layers.Dropout(rate=0.25)(model3)\n",
    "model3 = tf.keras.layers.Dense(4, activation='softmax')(model3)\n",
    "model3 = tf.keras.models.Model(inputs=effnet.input, outputs=model3)\n",
    "#opt = keras.optimizers.Adam(learning_rate=0.001)\n",
    "#new learning rate(0.0001)\n",
    "opt = keras.optimizers.Adam(learning_rate=0.0001)\n",
    "model3.compile(loss='categorical_crossentropy',  optimizer=opt, metrics=['accuracy'])\n",
    "history = model3.fit(X_train, y_train, validation_split=0.2, epochs=20, verbose=1, batch_size=20)"
   ]
  },
  {
   "cell_type": "code",
   "execution_count": 17,
   "metadata": {},
   "outputs": [
    {
     "name": "stdout",
     "output_type": "stream",
     "text": [
      "169/169 [==============================] - 51s 297ms/step\n",
      "              precision    recall  f1-score   support\n",
      "\n",
      "           0       0.94      0.92      0.93      1179\n",
      "           1       0.87      0.88      0.88      1169\n",
      "           2       0.85      0.88      0.86      1221\n",
      "           3       0.91      0.90      0.90      1817\n",
      "\n",
      "    accuracy                           0.89      5386\n",
      "   macro avg       0.89      0.89      0.89      5386\n",
      "weighted avg       0.90      0.89      0.89      5386\n",
      "\n"
     ]
    }
   ],
   "source": [
    "pred3 = model3.predict(X_test)\n",
    "pred3 = np.argmax(pred3,axis=1)\n",
    "y_test_new3 = np.argmax(y_test, axis=1)\n",
    "print(classification_report(y_test_new3,pred3))"
   ]
  },
  {
   "cell_type": "code",
   "execution_count": 18,
   "metadata": {},
   "outputs": [
    {
     "data": {
      "image/png": "[encoded data removed]",
      "text/plain": [
       "<Figure size 648x288 with 2 Axes>"
      ]
     },
     "metadata": {
      "needs_background": "light"
     },
     "output_type": "display_data"
    }
   ],
   "source": [
    "fig, ax = plt.subplots(1, 1, figsize=(9, 4))\n",
    "sns.heatmap(confusion_matrix(y_test_new3, pred3), ax=ax, xticklabels=label, yticklabels=label, annot=True,\n",
    "           cmap='Blues', alpha=0.7, linewidths=2, fmt='g')\n",
    "fig.text(s='Confusion Matrix', size=12, fontweight='bold',\n",
    "             fontname='monospace', y=0.92, x=0.28)\n",
    "plt.show()"
   ]
  },
  {
   "cell_type": "code",
   "execution_count": 19,
   "metadata": {},
   "outputs": [
    {
     "name": "stdout",
     "output_type": "stream",
     "text": [
      "Epoch 1/10\n",
      "391/391 [==============================] - 362s 911ms/step - loss: 0.7549 - accuracy: 0.6466 - val_loss: 0.4428 - val_accuracy: 0.8188\n",
      "Epoch 2/10\n",
      "391/391 [==============================] - 357s 913ms/step - loss: 0.4040 - accuracy: 0.8314 - val_loss: 0.3282 - val_accuracy: 0.8680\n",
      "Epoch 3/10\n",
      "391/391 [==============================] - 360s 920ms/step - loss: 0.2392 - accuracy: 0.9089 - val_loss: 0.2658 - val_accuracy: 0.8982\n",
      "Epoch 4/10\n",
      "391/391 [==============================] - 360s 920ms/step - loss: 0.1368 - accuracy: 0.9512 - val_loss: 0.2624 - val_accuracy: 0.9053\n",
      "Epoch 5/10\n",
      "391/391 [==============================] - 361s 923ms/step - loss: 0.1044 - accuracy: 0.9643 - val_loss: 0.2816 - val_accuracy: 0.9156\n",
      "Epoch 6/10\n",
      "391/391 [==============================] - 363s 928ms/step - loss: 0.0702 - accuracy: 0.9745 - val_loss: 0.3133 - val_accuracy: 0.9176\n",
      "Epoch 7/10\n",
      "391/391 [==============================] - 363s 930ms/step - loss: 0.0580 - accuracy: 0.9804 - val_loss: 0.2905 - val_accuracy: 0.9181\n",
      "Epoch 8/10\n",
      "391/391 [==============================] - 366s 936ms/step - loss: 0.0498 - accuracy: 0.9828 - val_loss: 0.3374 - val_accuracy: 0.9232\n",
      "Epoch 9/10\n",
      "391/391 [==============================] - 367s 940ms/step - loss: 0.0594 - accuracy: 0.9803 - val_loss: 0.2929 - val_accuracy: 0.9166\n",
      "Epoch 10/10\n",
      "391/391 [==============================] - 367s 939ms/step - loss: 0.0416 - accuracy: 0.9857 - val_loss: 0.3487 - val_accuracy: 0.9227\n"
     ]
    }
   ],
   "source": [
    "# change in neurons fro 64 to 128 to 256\n",
    "effnet = EfficientNetB0(weights='imagenet',include_top=False,input_shape=(image_size,image_size,3))\n",
    "model4 = effnet.output\n",
    "model4 = tf.keras.layers.Dense(256, activation='relu')(model4)\n",
    "model4 = tf.keras.layers.Dropout(rate=0.25)(model4)\n",
    "model4 = tf.keras.layers.Dense(256, activation='relu')(model4)\n",
    "model4 = tf.keras.layers.Dropout(rate=0.25)(model4)\n",
    "model4 = tf.keras.layers.Dense(256, activation='relu')(model4)\n",
    "model4 = tf.keras.layers.Dropout(rate=0.25)(model4)\n",
    "model4 = tf.keras.layers.Dense(256, activation='relu')(model4)\n",
    "model4 = tf.keras.layers.GlobalAveragePooling2D()(model4)\n",
    "model4 = tf.keras.layers.Dropout(rate=0.25)(model4)\n",
    "model4 = tf.keras.layers.Dense(3, activation='softmax')(model4)\n",
    "model4 = tf.keras.models.Model(inputs=effnet.input, outputs=model4)\n",
    "#opt = keras.optimizers.Adam(learning_rate=0.001)\n",
    "#new learning rate(0.0001)\n",
    "opt = keras.optimizers.Adam(learning_rate=0.0001)\n",
    "model4.compile(loss='categorical_crossentropy',  optimizer=opt, metrics=['accuracy'])\n",
    "history = model4.fit(X_train, y_train, validation_split=0.2, epochs=10, verbose=1, batch_size=20)"
   ]
  },
  {
   "cell_type": "code",
   "execution_count": 20,
   "metadata": {},
   "outputs": [
    {
     "name": "stdout",
     "output_type": "stream",
     "text": [
      "131/131 [==============================] - 41s 307ms/step\n",
      "              precision    recall  f1-score   support\n",
      "\n",
      "           0       0.93      0.97      0.95      1241\n",
      "           1       0.93      0.82      0.87      1143\n",
      "           2       0.92      0.97      0.94      1802\n",
      "\n",
      "    accuracy                           0.93      4186\n",
      "   macro avg       0.93      0.92      0.92      4186\n",
      "weighted avg       0.93      0.93      0.93      4186\n",
      "\n"
     ]
    }
   ],
   "source": [
    "pred4 = model4.predict(X_test)\n",
    "pred4 = np.argmax(pred4,axis=1)\n",
    "y_test_new4 = np.argmax(y_test, axis=1)\n",
    "print(classification_report(y_test_new4,pred4))"
   ]
  },
  {
   "cell_type": "code",
   "execution_count": 21,
   "metadata": {},
   "outputs": [
    {
     "data": {
      "image/png": "[encoded data removed]",
      "text/plain": [
       "<Figure size 648x288 with 2 Axes>"
      ]
     },
     "metadata": {
      "needs_background": "light"
     },
     "output_type": "display_data"
    }
   ],
   "source": [
    "fig, ax = plt.subplots(1, 1, figsize=(9, 4))\n",
    "sns.heatmap(confusion_matrix(y_test_new4, pred4), ax=ax, xticklabels=label, yticklabels=label, annot=True,\n",
    "           cmap='Blues', alpha=0.7, linewidths=2, fmt='g')\n",
    "fig.text(s='Confusion Matrix', size=12, fontweight='bold',\n",
    "             fontname='monospace', y=0.92, x=0.28)\n",
    "plt.show()"
   ]
  },
  {
   "cell_type": "code",
   "execution_count": 22,
   "metadata": {},
   "outputs": [
    {
     "name": "stdout",
     "output_type": "stream",
     "text": [
      "Downloading data from https://storage.googleapis.com/tensorflow/keras-applications/inception_v3/inception_v3_weights_tf_dim_ordering_tf_kernels_notop.h5\n",
      "87910968/87910968 [==============================] - 18s 0us/step\n"
     ]
    }
   ],
   "source": [
    "incep = InceptionV3(input_shape=(image_size,image_size,3), include_top = False, weights = 'imagenet')"
   ]
  },
  {
   "cell_type": "code",
   "execution_count": 23,
   "metadata": {},
   "outputs": [
    {
     "name": "stdout",
     "output_type": "stream",
     "text": [
      "Epoch 1/10\n",
      "391/391 [==============================] - 367s 925ms/step - loss: 0.7836 - accuracy: 0.6421 - val_loss: 0.5784 - val_accuracy: 0.7559\n",
      "Epoch 2/10\n",
      "391/391 [==============================] - 378s 966ms/step - loss: 0.4189 - accuracy: 0.8313 - val_loss: 0.5359 - val_accuracy: 0.8137\n",
      "Epoch 3/10\n",
      "391/391 [==============================] - 373s 954ms/step - loss: 0.2456 - accuracy: 0.9121 - val_loss: 0.4948 - val_accuracy: 0.8199\n",
      "Epoch 4/10\n",
      "391/391 [==============================] - 369s 943ms/step - loss: 0.1466 - accuracy: 0.9459 - val_loss: 0.5148 - val_accuracy: 0.8480\n",
      "Epoch 5/10\n",
      "391/391 [==============================] - 371s 949ms/step - loss: 0.1130 - accuracy: 0.9593 - val_loss: 0.6755 - val_accuracy: 0.8178\n",
      "Epoch 6/10\n",
      "391/391 [==============================] - 376s 962ms/step - loss: 0.0967 - accuracy: 0.9654 - val_loss: 0.4537 - val_accuracy: 0.8649\n",
      "Epoch 7/10\n",
      "391/391 [==============================] - 378s 967ms/step - loss: 0.0862 - accuracy: 0.9715 - val_loss: 0.5888 - val_accuracy: 0.8572\n",
      "Epoch 8/10\n",
      "391/391 [==============================] - 378s 967ms/step - loss: 0.0582 - accuracy: 0.9790 - val_loss: 0.5277 - val_accuracy: 0.8623\n",
      "Epoch 9/10\n",
      "391/391 [==============================] - 378s 968ms/step - loss: 0.0670 - accuracy: 0.9779 - val_loss: 0.5730 - val_accuracy: 0.8577\n",
      "Epoch 10/10\n",
      "391/391 [==============================] - 386s 987ms/step - loss: 0.0549 - accuracy: 0.9840 - val_loss: 0.5562 - val_accuracy: 0.8746\n"
     ]
    }
   ],
   "source": [
    "model5 = incep.output\n",
    "model5 = tf.keras.layers.Dense(256, activation='relu')(model5)\n",
    "model5 = tf.keras.layers.Dropout(rate=0.25)(model5)\n",
    "model5 = tf.keras.layers.Dense(256, activation='relu')(model5)\n",
    "model5 = tf.keras.layers.Dropout(rate=0.25)(model5)\n",
    "model5 = tf.keras.layers.Dense(256, activation='relu')(model5)\n",
    "model5 = tf.keras.layers.Dropout(rate=0.25)(model5)\n",
    "model5 = tf.keras.layers.Dense(256, activation='relu')(model5)\n",
    "model5 = tf.keras.layers.GlobalAveragePooling2D()(model5)\n",
    "model5 = tf.keras.layers.Dropout(rate=0.25)(model5)\n",
    "model5 = tf.keras.layers.Dense(3, activation='softmax')(model5)\n",
    "model5 = tf.keras.models.Model(inputs=incep.input, outputs = model5)\n",
    "opt = keras.optimizers.Adam(learning_rate=0.0001)\n",
    "model5.compile(loss='categorical_crossentropy',  optimizer=opt, metrics=['accuracy'])\n",
    "history = model5.fit(X_train, y_train, validation_split=0.2, epochs=10, verbose=1, batch_size=20)"
   ]
  },
  {
   "cell_type": "code",
   "execution_count": 24,
   "metadata": {},
   "outputs": [
    {
     "name": "stdout",
     "output_type": "stream",
     "text": [
      "131/131 [==============================] - 26s 194ms/step\n",
      "              precision    recall  f1-score   support\n",
      "\n",
      "           0       0.94      0.90      0.92      1241\n",
      "           1       0.78      0.82      0.80      1143\n",
      "           2       0.89      0.89      0.89      1802\n",
      "\n",
      "    accuracy                           0.87      4186\n",
      "   macro avg       0.87      0.87      0.87      4186\n",
      "weighted avg       0.88      0.87      0.87      4186\n",
      "\n"
     ]
    }
   ],
   "source": [
    "pred5 = model5.predict(X_test)\n",
    "pred5 = np.argmax(pred5,axis=1)\n",
    "y_test_new5 = np.argmax(y_test, axis=1)\n",
    "print(classification_report(y_test_new5,pred5))"
   ]
  },
  {
   "cell_type": "code",
   "execution_count": 51,
   "metadata": {},
   "outputs": [
    {
     "data": {
      "image/png": "[encoded data removed]",
      "text/plain": [
       "<Figure size 648x288 with 2 Axes>"
      ]
     },
     "metadata": {
      "needs_background": "light"
     },
     "output_type": "display_data"
    }
   ],
   "source": [
    "fig, ax = plt.subplots(1, 1, figsize=(9, 4))\n",
    "sns.heatmap(confusion_matrix(y_test_new5, pred5), ax=ax, xticklabels=label, yticklabels=label, annot=True,\n",
    "           cmap='Blues', alpha=0.7, linewidths=2, fmt='g')\n",
    "fig.text(s='Confusion Matrix', size=12, fontweight='bold',\n",
    "             fontname='monospace', y=0.92, x=0.28)\n",
    "plt.show()"
   ]
  },
  {
   "cell_type": "code",
   "execution_count": 30,
   "metadata": {},
   "outputs": [],
   "source": [
    "res=tf.keras.applications.ResNet50V2(input_shape=(image_size,image_size,3), include_top = False, weights = 'imagenet')"
   ]
  },
  {
   "cell_type": "code",
   "execution_count": 48,
   "metadata": {},
   "outputs": [
    {
     "name": "stdout",
     "output_type": "stream",
     "text": [
      "WARNING:tensorflow:`input_shape` is undefined or non-square, or `rows` is not in [96, 128, 160, 192, 224]. Weights for input shape (224, 224) will be loaded as the default.\n"
     ]
    }
   ],
   "source": [
    "nasnet=tf.keras.applications.MobileNetV2(input_shape=(image_size,image_size,3), include_top = False, weights = 'imagenet')"
   ]
  },
  {
   "cell_type": "code",
   "execution_count": 49,
   "metadata": {},
   "outputs": [
    {
     "name": "stdout",
     "output_type": "stream",
     "text": [
      "Epoch 1/10\n",
      "391/391 [==============================] - 249s 626ms/step - loss: 0.7361 - accuracy: 0.6633 - val_loss: 1.3688 - val_accuracy: 0.5972\n",
      "Epoch 2/10\n",
      "391/391 [==============================] - 243s 622ms/step - loss: 0.4033 - accuracy: 0.8385 - val_loss: 0.4585 - val_accuracy: 0.8342\n",
      "Epoch 3/10\n",
      "391/391 [==============================] - 244s 625ms/step - loss: 0.2205 - accuracy: 0.9191 - val_loss: 0.5047 - val_accuracy: 0.8321\n",
      "Epoch 4/10\n",
      "391/391 [==============================] - 245s 626ms/step - loss: 0.1362 - accuracy: 0.9534 - val_loss: 0.5758 - val_accuracy: 0.8439\n",
      "Epoch 5/10\n",
      "391/391 [==============================] - 245s 627ms/step - loss: 0.1035 - accuracy: 0.9630 - val_loss: 0.5225 - val_accuracy: 0.8588\n",
      "Epoch 6/10\n",
      "391/391 [==============================] - 253s 646ms/step - loss: 0.0865 - accuracy: 0.9703 - val_loss: 0.4952 - val_accuracy: 0.8654\n",
      "Epoch 7/10\n",
      "391/391 [==============================] - 256s 655ms/step - loss: 0.0696 - accuracy: 0.9771 - val_loss: 0.6118 - val_accuracy: 0.8547\n",
      "Epoch 8/10\n",
      "391/391 [==============================] - 259s 662ms/step - loss: 0.0669 - accuracy: 0.9767 - val_loss: 0.5075 - val_accuracy: 0.8838\n",
      "Epoch 9/10\n",
      "391/391 [==============================] - 261s 669ms/step - loss: 0.0541 - accuracy: 0.9817 - val_loss: 0.5747 - val_accuracy: 0.8828\n",
      "Epoch 10/10\n",
      "391/391 [==============================] - 262s 670ms/step - loss: 0.0620 - accuracy: 0.9794 - val_loss: 0.5486 - val_accuracy: 0.8802\n"
     ]
    }
   ],
   "source": [
    "model6 = nasnet.output\n",
    "model6 = tf.keras.layers.Dense(256, activation='relu')(model6)\n",
    "model6 = tf.keras.layers.Dropout(rate=0.25)(model6)\n",
    "model6 = tf.keras.layers.Dense(256, activation='relu')(model6)\n",
    "model6 = tf.keras.layers.Dropout(rate=0.25)(model6)\n",
    "model6 = tf.keras.layers.Dense(256, activation='relu')(model6)\n",
    "model6 = tf.keras.layers.Dropout(rate=0.25)(model6)\n",
    "model6 = tf.keras.layers.Dense(256, activation='relu')(model6)\n",
    "model6 = tf.keras.layers.GlobalAveragePooling2D()(model6)\n",
    "model6 = tf.keras.layers.Dropout(rate=0.25)(model6)\n",
    "model6 = tf.keras.layers.Dense(3, activation='softmax')(model6)\n",
    "model6 = tf.keras.models.Model(inputs=nasnet.input, outputs = model6)\n",
    "opt = keras.optimizers.Adam(learning_rate=0.0001)\n",
    "model6.compile(loss='categorical_crossentropy',  optimizer=opt, metrics=['accuracy'])\n",
    "history = model6.fit(X_train, y_train, validation_split=0.2, epochs=10, verbose=1, batch_size=20)"
   ]
  },
  {
   "cell_type": "code",
   "execution_count": 52,
   "metadata": {},
   "outputs": [
    {
     "name": "stdout",
     "output_type": "stream",
     "text": [
      "131/131 [==============================] - 24s 180ms/step\n",
      "              precision    recall  f1-score   support\n",
      "\n",
      "           0       0.87      0.95      0.91      1241\n",
      "           1       0.88      0.71      0.79      1143\n",
      "           2       0.88      0.93      0.90      1802\n",
      "\n",
      "    accuracy                           0.88      4186\n",
      "   macro avg       0.88      0.86      0.87      4186\n",
      "weighted avg       0.88      0.88      0.87      4186\n",
      "\n"
     ]
    }
   ],
   "source": [
    "pred6 = model6.predict(X_test)\n",
    "pred6 = np.argmax(pred6,axis=1)\n",
    "y_test_new6 = np.argmax(y_test, axis=1)\n",
    "print(classification_report(y_test_new6,pred6))"
   ]
  },
  {
   "cell_type": "code",
   "execution_count": 53,
   "metadata": {},
   "outputs": [
    {
     "data": {
      "image/png": "[encoded data removed]",
      "text/plain": [
       "<Figure size 648x288 with 2 Axes>"
      ]
     },
     "metadata": {
      "needs_background": "light"
     },
     "output_type": "display_data"
    }
   ],
   "source": [
    "fig, ax = plt.subplots(1, 1, figsize=(9, 4))\n",
    "sns.heatmap(confusion_matrix(y_test_new6, pred6), ax=ax, xticklabels=label, yticklabels=label, annot=True,\n",
    "           cmap='Blues', alpha=0.7, linewidths=2, fmt='g')\n",
    "fig.text(s='Confusion Matrix', size=12, fontweight='bold',\n",
    "             fontname='monospace', y=0.92, x=0.28)\n",
    "plt.show()"
   ]
  },
  {
   "cell_type": "code",
   "execution_count": null,
   "metadata": {},
   "outputs": [],
   "source": []
  }
 ],
 "metadata": {
  "accelerator": "GPU",
  "colab": {
   "provenance": []
  },
  "gpuClass": "standard",
  "kernelspec": {
   "display_name": "Python 3",
   "language": "python",
   "name": "python3"
  },
  "language_info": {
   "codemirror_mode": {
    "name": "ipython",
    "version": 3
   },
   "file_extension": ".py",
   "mimetype": "text/x-python",
   "name": "python",
   "nbconvert_exporter": "python",
   "pygments_lexer": "ipython3",
   "version": "3.8.5"
  }
 },
 "nbformat": 4,
 "nbformat_minor": 1
}
